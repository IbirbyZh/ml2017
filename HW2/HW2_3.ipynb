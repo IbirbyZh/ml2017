{
 "cells": [
  {
   "cell_type": "code",
   "execution_count": 1,
   "metadata": {
    "collapsed": false,
    "deletable": true,
    "editable": true
   },
   "outputs": [],
   "source": [
    "import numpy as np\n",
    "import sklearn.datasets as dsets\n",
    "from sklearn import metrics, tree\n",
    "from sklearn.model_selection import train_test_split"
   ]
  },
  {
   "cell_type": "code",
   "execution_count": 2,
   "metadata": {
    "collapsed": false,
    "deletable": true,
    "editable": true
   },
   "outputs": [],
   "source": [
    "class DTree(object):\n",
    "    def __init__(self, max_depth = 5):\n",
    "        self.max_depth = max_depth\n",
    "    \n",
    "    def fit(self, X, y):\n",
    "        self.initlialize(X, y)\n",
    "        i = 0\n",
    "        while i < self.next_node:\n",
    "            if self.depth[i] <= self.max_depth and self.node[i].size > 1:\n",
    "                self.split_node(i)\n",
    "            i += 1\n",
    "        \n",
    "    def initlialize(self, X, y):\n",
    "        self.X = X\n",
    "        self.y = y\n",
    "        self.next_node = 0\n",
    "        self.node = []\n",
    "        self.left_node = []\n",
    "        self.right_node = []\n",
    "        self.depth = []\n",
    "        self.index = []\n",
    "        self.t = []\n",
    "        self.init_new_node(np.arange(0, y.shape[0], 1, dtype=int), 0)\n",
    "        \n",
    "    def init_new_node(self, indexes, depth):\n",
    "        self.node += [indexes]\n",
    "        self.left_node += [-1]\n",
    "        self.right_node += [-1]\n",
    "        self.index += [-1]\n",
    "        self.t += [-1]\n",
    "        self.depth += [depth]\n",
    "        self.next_node += 1\n",
    "        \n",
    "        \n",
    "    def split_node(self, ind):\n",
    "        x = self.X[self.node[ind]]\n",
    "        y = self.y[self.node[ind]]\n",
    "        x_temp = x.T\n",
    "        m_probas = []\n",
    "        for probas in x_temp:\n",
    "            avb = np.array(list(set(list(np.sort(probas, axis = 0)))))\n",
    "            avb = (avb[:-1] + avb[1:]) / 2\n",
    "            m_probas += [avb]\n",
    "        \n",
    "        MSE = 1e308\n",
    "        pr = -1\n",
    "        t = -1\n",
    "        for i, probas in enumerate(m_probas):\n",
    "            for proba in probas:\n",
    "                new_MSE = self.try_split(y, x[:,i] <= proba)\n",
    "                if new_MSE < MSE:\n",
    "                    pr = i\n",
    "                    t = proba\n",
    "                    MSE = new_MSE\n",
    "        if pr == -1:\n",
    "            return\n",
    "        left = []\n",
    "        right = []\n",
    "        for i, one in enumerate(x):\n",
    "            if one[pr] <= t:\n",
    "                left += [self.node[ind][i]]\n",
    "            else:\n",
    "                right += [self.node[ind][i]]\n",
    "        self.index[ind] = pr\n",
    "        self.t[ind] = t\n",
    "        self.left_node[ind] = self.next_node\n",
    "        self.init_new_node(np.array(left), self.depth[ind] + 1)\n",
    "        self.right_node[ind] = self.next_node\n",
    "        self.init_new_node(np.array(right), self.depth[ind] + 1)\n",
    "        \n",
    "    \n",
    "    def try_split(self, y, x):\n",
    "        y1 = y[x]\n",
    "        y2 = y[x == False]\n",
    "        res = 0\n",
    "        res += ((y1 - y1.mean(0)) ** 2).sum(0)\n",
    "        res += ((y2 - y2.mean(0)) ** 2).sum(0)\n",
    "        return res\n",
    "    \n",
    "    def predict_one(self, X):\n",
    "        ind = 0\n",
    "        while self.index[ind] > -1:\n",
    "            if X[self.index[ind]] <= self.t[ind]:\n",
    "                ind = self.left_node[ind]\n",
    "            else:\n",
    "                ind = self.right_node[ind]\n",
    "        return self.y[self.node[ind]].mean(0)\n",
    "    \n",
    "    def predict(self, X):\n",
    "        if len(X.shape) > 1:\n",
    "            res = []\n",
    "            for x in X:\n",
    "                res += [self.predict_one(x)]\n",
    "            return np.array(res)\n",
    "        else:\n",
    "            return predict_one(X)"
   ]
  },
  {
   "cell_type": "code",
   "execution_count": 3,
   "metadata": {
    "collapsed": false,
    "deletable": true,
    "editable": true
   },
   "outputs": [],
   "source": [
    "X, y = dsets.load_boston(return_X_y=True)\n",
    "X_train, X_test, y_train, y_test = train_test_split(X, y, test_size=0.2, random_state=24)\n",
    "mytree = DTree(max_depth=7)\n",
    "sktree = tree.DecisionTreeRegressor(max_depth=7)"
   ]
  },
  {
   "cell_type": "code",
   "execution_count": 4,
   "metadata": {
    "collapsed": false,
    "deletable": true,
    "editable": true
   },
   "outputs": [],
   "source": [
    "sktree.fit(X_train, y_train)\n",
    "mytree.fit(X_train, y_train)"
   ]
  },
  {
   "cell_type": "code",
   "execution_count": 5,
   "metadata": {
    "collapsed": false,
    "deletable": true,
    "editable": true
   },
   "outputs": [
    {
     "name": "stdout",
     "output_type": "stream",
     "text": [
      "errors\n",
      "my tree: 27.5961880017\n",
      "sklearn: 15.3697106735\n",
      "mean: 68.6418202175\n"
     ]
    }
   ],
   "source": [
    "print \"errors\"\n",
    "print \"my tree: %s\"%metrics.mean_squared_error(y_test, mytree.predict(X_test))\n",
    "print \"sklearn: %s\"%metrics.mean_squared_error(y_test, sktree.predict(X_test))\n",
    "print \"mean: %s\"%metrics.mean_squared_error(y_test, np.array([y_train.mean(0)]*y_test.size))"
   ]
  },
  {
   "cell_type": "code",
   "execution_count": null,
   "metadata": {
    "collapsed": true
   },
   "outputs": [],
   "source": []
  }
 ],
 "metadata": {
  "kernelspec": {
   "display_name": "Python 2",
   "language": "python",
   "name": "python2"
  },
  "language_info": {
   "codemirror_mode": {
    "name": "ipython",
    "version": 2
   },
   "file_extension": ".py",
   "mimetype": "text/x-python",
   "name": "python",
   "nbconvert_exporter": "python",
   "pygments_lexer": "ipython2",
   "version": "2.7.13"
  }
 },
 "nbformat": 4,
 "nbformat_minor": 2
}
